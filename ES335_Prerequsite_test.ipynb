{
  "nbformat": 4,
  "nbformat_minor": 0,
  "metadata": {
    "colab": {
      "provenance": []
    },
    "kernelspec": {
      "name": "python3",
      "display_name": "Python 3"
    },
    "language_info": {
      "name": "python"
    }
  },
  "cells": [
    {
      "cell_type": "markdown",
      "source": [
        "# Questions"
      ],
      "metadata": {
        "id": "KxE9Fw5GNPWX"
      }
    },
    {
      "cell_type": "markdown",
      "source": [
        "## 1. How many multiplications and additions do you need to perform a matrix multiplication between a (n, k) and (k, m) matrix? Explain."
      ],
      "metadata": {
        "id": "vZ8JowdUNlqz"
      }
    },
    {
      "cell_type": "markdown",
      "source": [
        "*Ans*: For matrix multiplication the number of:\n",
        "\n",
        "* Multiplications:  k*m*n ( A single row of k elements in the first matrix it is multiplied with corresponing k elements of the columns of the second matrix m times. This process is iterated over n times corresponing to each row in the first matrix )\n",
        "\n",
        "* Addition: (k-1)*m*n ( After a row of the first matrix is multiplied with corresponding elements of the second matrix resulting in k terms. These k terms are added using k-1 addition operations. This is first iterated for m columns of the second matrix then for n rows of the first matrix)\n",
        "\n"
      ],
      "metadata": {
        "id": "0vsOPvBdNsb6"
      }
    },
    {
      "cell_type": "markdown",
      "source": [
        "## 2. Write Python code to multiply the above two matrices. Solve using list of lists and then use numpy. Compare the timing of both solutions. Which one is faster? Why?"
      ],
      "metadata": {
        "id": "_MtoCLX4Qvwa"
      }
    },
    {
      "cell_type": "code",
      "source": [
        "import numpy as np\n",
        "import time\n",
        "n=50\n",
        "m=52\n",
        "k=45\n",
        "\n",
        "\n",
        "M1 = np.random.randint(1,10,size= (n,k))\n",
        "\n",
        "M2 =np.random.randint(1,10,size = (k,m))\n",
        "\n",
        "def matmul(M1=M1,M2=M2,n=n, m =m , k= k):\n",
        "\n",
        "    multiplied = []\n",
        "    for i in range(n):\n",
        "        row=[]\n",
        "        for j in range(m):\n",
        "            a= 0\n",
        "            for z in range(k):\n",
        "\n",
        "                a += M1[i][z]*M2[z][j]\n",
        "            row.append(a)\n",
        "        multiplied.append(row)\n",
        "\n",
        "    return multiplied\n",
        "\n",
        "print(f\"The matrix M1: {M1} and M2 {M2} \")\n",
        "\n",
        "x= time.time()\n",
        "print(matmul())\n",
        "y= time.time()\n",
        "print(f\"The time taken without numpy : {y-x} seconds\")\n",
        "\n",
        "x = time.time()\n",
        "print( np.matmul(M1,M2))\n",
        "y= time.time()\n",
        "print(f\"The time taken with numpy : {y-x} seconds\")\n",
        "\n",
        "\n"
      ],
      "metadata": {
        "colab": {
          "base_uri": "https://localhost:8080/"
        },
        "id": "eSfz_rKOQziG",
        "outputId": "10dc7ae6-3e10-48fd-bdba-65cc98cf8546"
      },
      "execution_count": 1,
      "outputs": [
        {
          "output_type": "stream",
          "name": "stdout",
          "text": [
            "The matrix M1: [[4 1 5 ... 4 9 2]\n",
            " [2 1 5 ... 7 2 4]\n",
            " [6 2 2 ... 5 5 3]\n",
            " ...\n",
            " [4 7 7 ... 4 3 3]\n",
            " [2 1 8 ... 3 1 7]\n",
            " [8 7 1 ... 5 5 2]] and M2 [[7 5 2 ... 1 1 3]\n",
            " [3 8 3 ... 7 5 7]\n",
            " [2 8 3 ... 1 5 1]\n",
            " ...\n",
            " [5 2 1 ... 3 3 1]\n",
            " [7 8 8 ... 9 5 7]\n",
            " [9 6 2 ... 1 9 8]] \n",
            "[[934, 1261, 1022, 1173, 1138, 1250, 1037, 943, 1041, 1242, 1041, 990, 1178, 1075, 990, 1174, 1155, 1159, 1210, 986, 1268, 1082, 1179, 1192, 1151, 891, 1284, 1122, 1096, 1128, 1115, 1026, 1258, 1079, 1306, 1120, 916, 1110, 1024, 1142, 1285, 1206, 1042, 1028, 1108, 1190, 1082, 1022, 1078, 1179, 946, 1071], [1061, 1305, 1051, 1283, 1212, 1408, 1000, 1052, 1188, 1420, 1091, 1196, 1180, 1214, 1198, 1171, 1195, 1312, 1234, 1154, 1379, 1204, 1229, 1264, 1163, 1064, 1431, 1219, 1198, 1236, 1189, 1047, 1371, 1313, 1445, 1197, 1010, 1158, 1221, 1181, 1455, 1312, 1103, 1066, 1078, 1294, 1203, 1098, 1157, 1151, 1062, 1130], [1168, 1413, 1147, 1250, 1295, 1471, 1155, 1028, 1178, 1466, 1191, 1240, 1242, 1232, 1195, 1306, 1286, 1258, 1322, 1175, 1504, 1310, 1326, 1320, 1263, 1087, 1428, 1313, 1372, 1338, 1300, 1228, 1341, 1222, 1490, 1281, 1076, 1214, 1233, 1171, 1498, 1393, 1179, 1169, 1231, 1309, 1249, 1104, 1277, 1317, 1138, 1242], [1074, 1313, 1001, 1221, 1204, 1366, 1031, 1070, 1139, 1376, 1083, 1170, 1172, 1161, 1175, 1187, 1196, 1162, 1167, 1151, 1363, 1208, 1242, 1235, 1248, 1002, 1428, 1281, 1235, 1255, 1186, 1124, 1284, 1222, 1425, 1195, 928, 1077, 1194, 1155, 1387, 1313, 1129, 1083, 1097, 1205, 1199, 1158, 1098, 1090, 1006, 1187], [960, 1204, 959, 1099, 1116, 1222, 985, 904, 948, 1316, 1002, 977, 1060, 980, 1040, 1156, 1068, 1073, 1070, 1016, 1274, 982, 1130, 1148, 1191, 898, 1238, 1133, 1168, 1128, 1074, 984, 1180, 957, 1306, 1085, 905, 986, 1016, 962, 1175, 1208, 1071, 968, 947, 1025, 1069, 899, 971, 1058, 988, 1105], [1161, 1411, 1132, 1238, 1274, 1462, 1118, 1027, 1101, 1436, 1147, 1191, 1271, 1246, 1180, 1221, 1231, 1250, 1295, 1091, 1353, 1323, 1308, 1276, 1251, 1124, 1319, 1345, 1331, 1282, 1222, 1223, 1291, 1243, 1383, 1238, 1072, 1257, 1302, 1106, 1482, 1257, 1245, 1148, 1146, 1279, 1236, 1127, 1238, 1157, 1108, 1135], [831, 1134, 948, 1047, 1054, 1139, 850, 859, 959, 1149, 957, 971, 1032, 912, 855, 975, 1008, 1033, 955, 896, 1194, 894, 1094, 1032, 976, 866, 1195, 1047, 948, 1013, 936, 890, 1086, 964, 1207, 965, 791, 960, 933, 918, 1116, 1051, 896, 940, 880, 1014, 1005, 888, 983, 1014, 897, 914], [941, 1117, 836, 1028, 1017, 1148, 854, 854, 939, 1172, 949, 1003, 869, 1081, 964, 975, 1060, 1024, 1021, 1039, 1276, 981, 982, 1063, 1066, 813, 1176, 984, 1044, 1005, 1023, 968, 1104, 964, 1120, 998, 827, 863, 985, 903, 1193, 1137, 961, 849, 895, 1078, 1041, 866, 946, 957, 915, 1020], [1131, 1226, 1101, 1147, 1152, 1346, 997, 997, 1076, 1400, 1077, 1110, 1126, 1079, 1105, 1168, 1147, 1187, 1097, 1111, 1311, 1134, 1218, 1171, 1184, 1065, 1342, 1245, 1209, 1300, 1135, 1044, 1275, 1110, 1428, 1141, 985, 1138, 1195, 1007, 1358, 1276, 1090, 1056, 1098, 1243, 1165, 1013, 1052, 1136, 1022, 1088], [1013, 1301, 1047, 1162, 1157, 1357, 962, 956, 985, 1260, 1106, 1079, 1070, 1019, 1077, 1148, 1031, 1156, 1144, 1100, 1329, 1083, 1085, 1198, 1120, 906, 1239, 1168, 1146, 1246, 1121, 1064, 1177, 1063, 1357, 1075, 873, 1095, 1049, 982, 1217, 1189, 1031, 1010, 1037, 1163, 1154, 946, 1017, 1187, 1007, 1108], [1136, 1405, 1146, 1210, 1280, 1452, 1077, 1087, 1023, 1432, 1134, 1238, 1307, 1105, 1166, 1241, 1255, 1206, 1270, 1145, 1414, 1239, 1219, 1272, 1256, 1154, 1406, 1353, 1280, 1335, 1270, 1206, 1267, 1170, 1433, 1241, 1008, 1217, 1252, 1071, 1366, 1288, 1186, 1110, 1055, 1173, 1227, 1082, 1148, 1095, 1150, 1146], [989, 1215, 1041, 1167, 1208, 1290, 1041, 922, 1113, 1383, 1076, 1136, 1072, 1102, 1010, 1141, 1166, 1148, 1174, 1104, 1378, 1145, 1189, 1204, 1138, 960, 1353, 1176, 1181, 1166, 1108, 1005, 1205, 1116, 1374, 1239, 1008, 1010, 1124, 964, 1369, 1258, 1073, 993, 1048, 1173, 1115, 1010, 1110, 1162, 982, 1056], [1071, 1383, 1125, 1251, 1283, 1391, 1094, 1051, 1109, 1468, 1112, 1193, 1289, 1156, 1144, 1296, 1231, 1212, 1268, 1168, 1401, 1207, 1208, 1331, 1276, 1076, 1421, 1319, 1242, 1255, 1216, 1106, 1379, 1229, 1470, 1203, 998, 1227, 1225, 1089, 1318, 1303, 1179, 1132, 1062, 1262, 1277, 1067, 1141, 1199, 1115, 1243], [1005, 1168, 971, 1168, 1139, 1331, 979, 984, 1104, 1366, 1102, 947, 971, 1074, 1073, 1076, 1068, 1065, 1160, 1118, 1291, 1129, 1104, 1187, 1211, 986, 1258, 1129, 1135, 1054, 1114, 954, 1117, 1022, 1289, 1065, 957, 1028, 1052, 1072, 1249, 1246, 1057, 1044, 1034, 1157, 1064, 993, 1123, 1067, 919, 986], [998, 1112, 944, 970, 1059, 1149, 924, 827, 894, 1249, 880, 995, 1073, 1032, 895, 1077, 1051, 1099, 1057, 936, 1175, 1057, 1079, 1077, 1069, 927, 1215, 1047, 1069, 1149, 1057, 937, 1135, 950, 1204, 1066, 842, 1012, 1025, 943, 1192, 1097, 950, 865, 931, 1047, 1152, 923, 942, 1038, 932, 1004], [1078, 1374, 1153, 1275, 1279, 1423, 1164, 1050, 1073, 1477, 1141, 1160, 1324, 1158, 1199, 1301, 1210, 1253, 1299, 1211, 1418, 1256, 1282, 1233, 1314, 1056, 1409, 1314, 1305, 1349, 1262, 1072, 1325, 1194, 1540, 1208, 1047, 1141, 1195, 1166, 1425, 1326, 1216, 1071, 1105, 1245, 1300, 1174, 1153, 1242, 1042, 1205], [1000, 1253, 1079, 1156, 1133, 1353, 1016, 1011, 1051, 1301, 1079, 1139, 1176, 1059, 1145, 1121, 1124, 1195, 1199, 1141, 1313, 1196, 1211, 1221, 1166, 1002, 1238, 1197, 1184, 1157, 1156, 1069, 1244, 1196, 1351, 1210, 1029, 1158, 1044, 1032, 1313, 1197, 1129, 989, 923, 1173, 1088, 1019, 1171, 1070, 1039, 1046], [1100, 1416, 1053, 1209, 1186, 1276, 1038, 992, 1013, 1288, 1056, 1117, 1205, 1099, 1136, 1143, 1121, 1186, 1210, 1053, 1289, 1132, 1185, 1207, 1228, 864, 1282, 1151, 1119, 1236, 1202, 1093, 1257, 1041, 1397, 1189, 980, 1031, 1085, 1082, 1239, 1221, 1164, 1009, 1070, 1206, 1198, 1021, 1055, 1071, 979, 1163], [1035, 1273, 1050, 1012, 1191, 1262, 1055, 980, 1066, 1333, 1079, 1105, 1159, 1179, 1145, 1125, 1155, 1156, 1183, 1083, 1351, 1153, 1261, 1219, 1182, 986, 1256, 1166, 1240, 1151, 1152, 1094, 1226, 1054, 1311, 1127, 991, 1031, 1015, 1045, 1284, 1187, 1129, 1018, 1078, 1095, 1117, 935, 1129, 1089, 1099, 1139], [1160, 1343, 1119, 1255, 1237, 1345, 1117, 1112, 1050, 1412, 1195, 1111, 1283, 1154, 1153, 1198, 1255, 1198, 1340, 1196, 1372, 1185, 1302, 1246, 1305, 1030, 1407, 1256, 1233, 1223, 1277, 1123, 1365, 1122, 1476, 1180, 962, 1150, 1210, 1216, 1351, 1249, 1185, 1099, 1145, 1177, 1296, 1152, 1162, 1129, 1002, 1205], [1046, 1226, 980, 1070, 1061, 1197, 1014, 956, 1004, 1255, 975, 910, 1186, 933, 1022, 1091, 1046, 1111, 1074, 915, 1160, 1089, 1132, 1058, 1182, 934, 1141, 1076, 1091, 1111, 1048, 919, 1196, 978, 1292, 1135, 982, 1065, 1081, 1037, 1103, 1108, 1140, 1027, 920, 1002, 1123, 988, 1046, 1045, 871, 1047], [967, 1281, 1089, 1158, 1239, 1337, 1019, 1051, 1081, 1304, 1149, 1101, 1197, 1163, 1060, 1100, 1219, 1201, 1177, 1175, 1443, 1111, 1221, 1220, 1139, 1003, 1347, 1248, 1252, 1191, 1169, 1168, 1267, 1212, 1397, 1155, 948, 1138, 1119, 1053, 1390, 1234, 1100, 1031, 999, 1196, 1194, 1096, 1065, 1086, 987, 970], [1061, 1433, 998, 1274, 1198, 1340, 1054, 1125, 1179, 1422, 1071, 1136, 1280, 1116, 1256, 1173, 1153, 1294, 1162, 1080, 1292, 1140, 1243, 1186, 1286, 1017, 1304, 1235, 1249, 1288, 1085, 1065, 1371, 1238, 1473, 1172, 1097, 1206, 1225, 1127, 1346, 1267, 1214, 1127, 1038, 1249, 1196, 1131, 1160, 1108, 1042, 1173], [1090, 1277, 986, 1160, 1193, 1317, 928, 959, 1020, 1237, 1040, 1157, 1149, 1036, 1076, 1165, 1236, 1189, 1106, 1073, 1302, 1143, 1125, 1200, 1109, 976, 1235, 1245, 1154, 1204, 1212, 1111, 1284, 1117, 1386, 1165, 980, 1133, 1136, 1043, 1288, 1271, 1128, 1062, 999, 1240, 1155, 961, 1125, 1108, 1070, 1084], [1066, 1369, 1097, 1303, 1285, 1391, 1109, 1072, 1092, 1491, 1180, 1205, 1240, 1156, 1105, 1307, 1161, 1232, 1225, 1219, 1433, 1176, 1251, 1215, 1262, 1009, 1487, 1296, 1340, 1330, 1193, 1080, 1328, 1221, 1494, 1342, 1028, 1158, 1218, 1126, 1432, 1310, 1156, 1023, 1023, 1242, 1287, 1194, 1154, 1200, 1060, 1224], [917, 1100, 931, 1085, 1021, 1211, 984, 840, 984, 1298, 929, 1026, 984, 1080, 988, 1093, 1043, 1130, 1074, 992, 1196, 1053, 1025, 1064, 1078, 945, 1202, 1074, 960, 1033, 1046, 962, 1081, 1008, 1198, 1063, 877, 900, 1078, 957, 1253, 1215, 976, 865, 931, 1137, 1030, 928, 978, 1032, 912, 1021], [1000, 1342, 1054, 1216, 1184, 1328, 1117, 990, 1037, 1359, 1083, 963, 1197, 1017, 1104, 1242, 1101, 1169, 1217, 1051, 1348, 1118, 1227, 1135, 1232, 1050, 1332, 1235, 1179, 1188, 1148, 1099, 1190, 1064, 1364, 1126, 903, 1127, 1099, 1105, 1285, 1245, 1053, 1083, 1072, 1058, 1072, 1073, 1078, 1174, 964, 1074], [1135, 1317, 1162, 1193, 1269, 1415, 1130, 1100, 1144, 1419, 1166, 1176, 1222, 1238, 1150, 1210, 1280, 1249, 1253, 1178, 1369, 1267, 1316, 1212, 1235, 1064, 1424, 1301, 1252, 1292, 1208, 1134, 1324, 1173, 1454, 1270, 1078, 1107, 1226, 1144, 1485, 1334, 1242, 1143, 1219, 1270, 1214, 1213, 1167, 1197, 1021, 1116], [1108, 1221, 1016, 1166, 1143, 1331, 947, 1040, 1020, 1307, 1031, 1084, 1198, 1038, 1184, 1021, 1047, 1175, 1145, 1045, 1263, 1090, 1191, 1126, 1177, 1046, 1197, 1235, 1170, 1172, 1118, 1076, 1160, 1012, 1319, 1084, 992, 1076, 1188, 1069, 1269, 1157, 1135, 1065, 1021, 1153, 1169, 1021, 1068, 979, 979, 1080], [1129, 1458, 1062, 1252, 1293, 1450, 1103, 1145, 1148, 1429, 1198, 1260, 1281, 1232, 1248, 1212, 1281, 1301, 1290, 1151, 1440, 1278, 1246, 1225, 1243, 989, 1339, 1309, 1335, 1390, 1199, 1204, 1321, 1282, 1506, 1292, 1170, 1139, 1205, 1150, 1476, 1362, 1356, 1151, 1183, 1282, 1222, 1128, 1231, 1166, 1180, 1097], [1081, 1263, 1146, 1201, 1161, 1321, 1090, 1073, 1098, 1383, 1140, 1008, 1271, 1111, 1131, 1161, 1128, 1268, 1142, 949, 1316, 1084, 1190, 1190, 1168, 968, 1265, 1195, 1196, 1165, 1104, 1012, 1287, 1075, 1417, 1179, 1079, 1136, 1135, 1104, 1222, 1232, 1204, 1110, 971, 1151, 1218, 1014, 1100, 1099, 1031, 1075], [1270, 1398, 1107, 1249, 1363, 1488, 1139, 1149, 1199, 1568, 1242, 1277, 1168, 1236, 1284, 1357, 1235, 1288, 1269, 1303, 1506, 1234, 1235, 1337, 1361, 1050, 1488, 1379, 1409, 1417, 1217, 1138, 1403, 1187, 1590, 1303, 1053, 1176, 1318, 1196, 1464, 1443, 1279, 1161, 1151, 1302, 1412, 1167, 1174, 1284, 1109, 1273], [1061, 1226, 1014, 1084, 1140, 1280, 1041, 911, 1082, 1308, 1029, 1067, 1159, 1097, 1150, 1122, 1126, 1145, 1154, 1043, 1380, 1139, 1188, 1191, 1151, 1013, 1325, 1169, 1215, 1166, 1185, 1085, 1253, 1070, 1308, 1128, 906, 1075, 1196, 1101, 1323, 1257, 1032, 998, 1044, 1166, 1121, 975, 1079, 1114, 983, 1176], [896, 1133, 904, 1055, 1133, 1140, 950, 923, 940, 1245, 1040, 989, 1038, 1096, 1012, 1035, 1142, 1053, 1069, 1006, 1242, 980, 1100, 1063, 1069, 899, 1243, 1066, 1168, 1015, 1025, 976, 1170, 1001, 1232, 1070, 976, 979, 1048, 926, 1270, 1205, 1025, 955, 954, 1122, 1028, 977, 992, 1045, 896, 963], [933, 1193, 1042, 1180, 1139, 1268, 967, 948, 977, 1268, 967, 1045, 1123, 1093, 1015, 1104, 1132, 1120, 1140, 1041, 1303, 1100, 1194, 1209, 1216, 906, 1360, 1135, 1153, 1211, 1113, 986, 1223, 1060, 1313, 1184, 945, 982, 1049, 1003, 1302, 1197, 1024, 952, 1010, 1167, 1131, 1011, 1008, 1063, 971, 1100], [1205, 1443, 1100, 1153, 1250, 1433, 1080, 1048, 1046, 1441, 1113, 1226, 1215, 1192, 1164, 1237, 1175, 1266, 1240, 1088, 1365, 1255, 1228, 1308, 1266, 1041, 1368, 1266, 1235, 1360, 1205, 1125, 1208, 1062, 1428, 1254, 1084, 1093, 1217, 1072, 1352, 1277, 1198, 1089, 1150, 1248, 1279, 1100, 1059, 1191, 1036, 1101], [1032, 1366, 1037, 1247, 1221, 1355, 1107, 1045, 1067, 1362, 1138, 1095, 1191, 1106, 1079, 1192, 1180, 1201, 1176, 1088, 1350, 1177, 1311, 1164, 1262, 981, 1340, 1265, 1172, 1174, 1187, 1119, 1254, 1073, 1423, 1246, 1007, 1049, 1137, 1197, 1301, 1327, 1248, 1111, 1036, 1161, 1191, 1146, 1190, 1208, 1053, 1126], [1213, 1457, 1244, 1306, 1280, 1451, 1273, 1170, 1144, 1546, 1283, 1261, 1340, 1316, 1277, 1271, 1283, 1394, 1385, 1208, 1501, 1228, 1329, 1333, 1366, 1138, 1470, 1338, 1317, 1351, 1306, 1213, 1377, 1196, 1547, 1268, 1087, 1182, 1340, 1211, 1476, 1375, 1212, 1131, 1160, 1254, 1376, 1202, 1192, 1247, 1113, 1252], [1167, 1425, 1242, 1289, 1277, 1465, 1134, 1202, 1230, 1501, 1294, 1272, 1370, 1308, 1202, 1218, 1210, 1370, 1334, 1185, 1455, 1300, 1440, 1318, 1305, 1054, 1482, 1255, 1315, 1344, 1290, 1215, 1385, 1235, 1554, 1367, 1105, 1154, 1289, 1244, 1474, 1260, 1194, 1130, 1184, 1278, 1329, 1211, 1188, 1204, 1112, 1264], [1010, 1370, 1107, 1240, 1171, 1375, 1060, 1049, 1073, 1374, 1118, 1133, 1209, 1172, 1178, 1168, 1164, 1183, 1203, 1139, 1397, 1177, 1269, 1250, 1248, 988, 1368, 1236, 1224, 1242, 1198, 1089, 1251, 1218, 1433, 1231, 1020, 1035, 1058, 1049, 1303, 1262, 1175, 1014, 1055, 1162, 1127, 1029, 1068, 1051, 1071, 1151], [986, 1141, 937, 1083, 1083, 1180, 976, 972, 983, 1286, 1017, 995, 1116, 1085, 1113, 1059, 1154, 1013, 1127, 987, 1256, 1144, 1044, 1169, 1135, 862, 1256, 1065, 1139, 1098, 1053, 962, 1163, 1002, 1229, 1098, 999, 1018, 1066, 886, 1220, 1190, 1017, 987, 1016, 1135, 1027, 976, 1008, 966, 935, 1035], [1076, 1395, 1160, 1150, 1287, 1354, 1188, 1084, 1105, 1459, 1166, 1127, 1324, 1190, 1075, 1309, 1225, 1238, 1190, 1180, 1406, 1179, 1311, 1124, 1241, 1042, 1471, 1278, 1282, 1353, 1178, 1108, 1383, 1173, 1513, 1274, 1025, 1091, 1230, 1156, 1384, 1299, 1259, 1121, 1141, 1158, 1259, 1227, 1105, 1220, 1010, 1188], [1182, 1351, 1115, 1246, 1154, 1425, 1100, 1117, 1137, 1427, 1189, 1095, 1204, 1094, 1207, 1234, 1116, 1292, 1158, 1088, 1367, 1138, 1164, 1253, 1206, 1007, 1326, 1290, 1250, 1325, 1171, 1039, 1304, 1182, 1448, 1191, 1050, 1200, 1215, 1135, 1301, 1231, 1180, 1037, 963, 1172, 1315, 1037, 1109, 1165, 1096, 1107], [972, 1290, 903, 1264, 1279, 1259, 1054, 1009, 1016, 1365, 1034, 1105, 1153, 1106, 1221, 1143, 1150, 1119, 1313, 1186, 1334, 1113, 1145, 1173, 1267, 993, 1323, 1240, 1217, 1193, 1144, 1084, 1227, 1083, 1416, 1041, 930, 1076, 1114, 1096, 1317, 1306, 1107, 1026, 1131, 1207, 1159, 1028, 1100, 1088, 995, 1175], [1129, 1375, 1128, 1091, 1204, 1385, 1073, 1096, 1130, 1453, 1244, 1130, 1262, 1144, 1135, 1160, 1154, 1249, 1203, 1093, 1399, 1139, 1250, 1172, 1211, 1011, 1348, 1178, 1298, 1280, 1173, 1084, 1253, 1123, 1424, 1240, 1137, 1087, 1238, 1060, 1375, 1240, 1234, 1125, 1162, 1205, 1176, 1148, 1110, 1153, 1035, 1097], [891, 1213, 1021, 1177, 1181, 1248, 1004, 926, 1109, 1343, 1112, 1032, 1137, 1130, 1014, 1103, 1155, 1133, 1099, 1091, 1342, 1011, 1217, 1140, 1153, 960, 1301, 1124, 1174, 1109, 1107, 971, 1291, 1126, 1341, 1116, 930, 1001, 1148, 1110, 1370, 1217, 1047, 999, 999, 1120, 1064, 1013, 1111, 1111, 979, 1065], [1104, 1321, 1096, 1267, 1251, 1331, 1190, 1152, 1164, 1441, 1232, 1056, 1294, 1189, 1176, 1225, 1203, 1211, 1269, 1137, 1363, 1230, 1292, 1159, 1355, 1040, 1380, 1241, 1239, 1241, 1173, 1142, 1331, 1116, 1484, 1231, 995, 1168, 1258, 1216, 1350, 1343, 1161, 1187, 1136, 1172, 1269, 1224, 1189, 1243, 979, 1196], [1010, 1370, 1027, 1255, 1291, 1322, 1076, 1058, 1159, 1447, 1152, 1152, 1214, 1173, 1127, 1140, 1182, 1241, 1259, 1155, 1421, 1108, 1238, 1169, 1260, 1066, 1375, 1183, 1277, 1235, 1164, 1147, 1261, 1159, 1453, 1218, 1071, 1073, 1231, 1127, 1431, 1323, 1148, 1090, 1185, 1276, 1149, 1065, 1132, 1181, 974, 1156], [1012, 1197, 1084, 1176, 1165, 1359, 947, 993, 1000, 1359, 1059, 1038, 1126, 1144, 1068, 1093, 1098, 1132, 1140, 1117, 1286, 1113, 1163, 1121, 1142, 1043, 1244, 1190, 1180, 1118, 1116, 1055, 1148, 1089, 1295, 1122, 979, 1038, 1151, 913, 1301, 1138, 1110, 1001, 984, 1154, 1176, 1065, 992, 1004, 941, 1051], [1076, 1410, 982, 1250, 1314, 1314, 1073, 1042, 1166, 1430, 1141, 1234, 1220, 1145, 1141, 1222, 1246, 1181, 1262, 1200, 1445, 1251, 1216, 1228, 1243, 932, 1394, 1277, 1303, 1314, 1243, 1136, 1307, 1145, 1562, 1220, 1053, 1026, 1261, 1119, 1421, 1326, 1153, 1095, 1199, 1298, 1247, 1066, 1117, 1248, 1018, 1219]]\n",
            "The time taken without numpy : 0.08960080146789551 seconds\n",
            "[[ 934 1261 1022 ... 1179  946 1071]\n",
            " [1061 1305 1051 ... 1151 1062 1130]\n",
            " [1168 1413 1147 ... 1317 1138 1242]\n",
            " ...\n",
            " [1010 1370 1027 ... 1181  974 1156]\n",
            " [1012 1197 1084 ... 1004  941 1051]\n",
            " [1076 1410  982 ... 1248 1018 1219]]\n",
            "The time taken with numpy : 0.0011169910430908203 seconds\n"
          ]
        }
      ]
    },
    {
      "cell_type": "markdown",
      "source": [
        "From the results numpy is faster this is due to vectorized calculations of numpy arrays"
      ],
      "metadata": {
        "id": "-6aHarzYiOXP"
      }
    },
    {
      "cell_type": "markdown",
      "source": [
        "## 3. Finding the highest element in a list requires one pass of the array. Finding the second highest element requires 2 passes of the the array. Using this method, what is the time complexity of finding the median of the array? Can you suggest a better method? Can you implement both these methods in Python and compare against numpy.median routine in terms of time?\n",
        "\n"
      ],
      "metadata": {
        "id": "A6jTYrISTQxm"
      }
    },
    {
      "cell_type": "markdown",
      "source": [
        "Finding the median of the array will require n/2 passes over the array. i.e Finding the n/2th largerst element in the array. If n is even then median will be the average of n/2th and (n/2) -1 th element otherwise the [n/2] th element. The time complexity of this soln will be $O(n^2)$\n",
        "\n",
        "A better method can be first sorting the array then finding the median by finding the [n/2] th element. THe time complexity will be $O(nlogn)$\n"
      ],
      "metadata": {
        "id": "e8kTRYCjXPPX"
      }
    },
    {
      "cell_type": "code",
      "source": [
        "\n",
        "def find_median_method2(arr):  # finding median by sorting\n",
        "    sorted_arr = sorted(arr)\n",
        "    n = len(sorted_arr)\n",
        "    if n % 2 == 1:\n",
        "        return sorted_arr[n // 2]\n",
        "    else:\n",
        "        mid1 = n // 2\n",
        "        mid2 = mid1 - 1\n",
        "        return (sorted_arr[mid1] + sorted_arr[mid2]) / 2\n",
        "\n",
        "arr=  np.random.randint(1,10,size=(11,))\n",
        "print(find_median_method2(arr))\n",
        "\n",
        "print(np.median(arr))"
      ],
      "metadata": {
        "id": "mWoJfwhSkUdP",
        "colab": {
          "base_uri": "https://localhost:8080/"
        },
        "outputId": "c2e93a55-2e9a-4cdf-de0e-9fac6ac15696"
      },
      "execution_count": 21,
      "outputs": [
        {
          "output_type": "stream",
          "name": "stdout",
          "text": [
            "6\n",
            "6.0\n"
          ]
        }
      ]
    },
    {
      "cell_type": "markdown",
      "source": [
        "## 4. What is the gradient of the following function with respect to x and y?\n",
        "\n",
        "$ x^2y + y^3sin(x)$\n",
        "\n"
      ],
      "metadata": {
        "id": "3U5Vkbc3PiGR"
      }
    },
    {
      "cell_type": "markdown",
      "source": [
        "The partial derivative wrt x will be\n",
        "\n",
        "$ \\frac{\\partial f}{\\partial x}  = 2xy+ y^3cos(x)$\n",
        "\n",
        "The partial dderivative wrt y will be\n",
        "\n",
        "$ \\frac{\\partial f}{\\partial y} = x^2 + 3y^2sin(x)$"
      ],
      "metadata": {
        "id": "UOQSOj-Mk5K_"
      }
    },
    {
      "cell_type": "markdown",
      "source": [
        "## 5. Use JAX to confirm the gradient evaluated by your method matches the analytical solution corresponding to a few random values of x and y"
      ],
      "metadata": {
        "id": "pAjuoVAdnVTu"
      }
    },
    {
      "cell_type": "code",
      "source": [
        "import jax\n",
        "import jax.numpy as jnp\n",
        "from jax import random\n",
        "\n",
        "def my_function(x, y):\n",
        "    return (x**2)*y + (y**3)*jnp.sin(x)\n",
        "\n",
        "\n",
        "def analytical_gradient(x, y):\n",
        "    df_dx = 2 * x*y + (y**3)*jnp.cos(x)\n",
        "    df_dy = (x**2)+ 3*(y**2)*jnp.sin(x)\n",
        "    return df_dx, df_dy\n",
        "\n",
        "\n",
        "grad_fn = jax.grad(my_function, argnums=(0, 1))\n",
        "\n",
        "key = random.PRNGKey(42)\n",
        "x_val = random.normal(key)\n",
        "y_val = random.normal(key)\n",
        "\n",
        "\n",
        "analytical_grad = analytical_gradient(x_val, y_val)\n",
        "\n",
        "\n",
        "jax_grad = grad_fn(x_val, y_val)\n",
        "\n",
        "\n",
        "print(\"Analytical Gradient:\", analytical_grad)\n",
        "print(\"JAX Gradient:\", jax_grad)\n"
      ],
      "metadata": {
        "colab": {
          "base_uri": "https://localhost:8080/"
        },
        "id": "9fAkqElYlmSb",
        "outputId": "c8697eaf-90c0-4d79-da91-e1ef316a9be2"
      },
      "execution_count": 7,
      "outputs": [
        {
          "output_type": "stream",
          "name": "stdout",
          "text": [
            "Analytical Gradient: (Array(0.062042, dtype=float32), Array(0.01531953, dtype=float32))\n",
            "JAX Gradient: (Array(0.062042, dtype=float32), Array(0.01531953, dtype=float32))\n"
          ]
        }
      ]
    },
    {
      "cell_type": "markdown",
      "source": [
        "## 6. Use sympy to confirm that you obtain the same gradient analytically."
      ],
      "metadata": {
        "id": "_4lmSPq3oMSD"
      }
    },
    {
      "cell_type": "code",
      "source": [
        "import sympy as sp\n",
        "\n",
        "x = sp.symbols('x')\n",
        "y = sp.symbols('y')\n",
        "\n",
        "f = (x**2)*y + (y**3)*sp.sin(x)\n",
        "\n",
        "derivative_x = sp.diff(f,x)\n",
        "\n",
        "print(f\"derivative wrt x :{derivative_x}\")\n",
        "\n",
        "derivative_y = sp.diff(f,y)\n",
        "\n",
        "print(f\"derivative wrt y :{derivative_y}\")\n",
        "\n",
        "\n",
        "\n",
        "point = {x:x_val, y:y_val}\n",
        "\n",
        "print(f\"The partial derivative of f with respect to x at point  is:\", derivative_x.subs(point))\n",
        "print(f\"The partial derivative of f with respect to y at point  is:\", derivative_y.subs(point))\n",
        "\n"
      ],
      "metadata": {
        "id": "5JFocg46oQnT",
        "colab": {
          "base_uri": "https://localhost:8080/"
        },
        "outputId": "b959cff0-ae3c-4174-f054-10aeba520551"
      },
      "execution_count": 10,
      "outputs": [
        {
          "output_type": "stream",
          "name": "stdout",
          "text": [
            "derivative wrt x :2*x*y + y**3*cos(x)\n",
            "derivative wrt y :x**2 + 3*y**2*sin(x)\n",
            "The partial derivative of f with respect to x at point  is: 0.0620420015797795\n",
            "The partial derivative of f with respect to y at point  is: 0.0153195319815740\n"
          ]
        }
      ]
    },
    {
      "cell_type": "markdown",
      "source": [
        "## 7.Create a Python nested dictionary to represent hierarchical information. We want to store record of students and their marks. Something like:\n",
        "2022\n",
        "Branch 1\n",
        "Roll Number: 1, Name: N, Marks:\n",
        "Maths: 100, English: 70 …\n",
        "Branch 2\n",
        "2023\n",
        "Branch 1\n",
        "Branch 2\n",
        "2024\n",
        "Branch 1\n",
        "Branch 2\n",
        "2025\n",
        "Branch 1\n",
        "Branch 2"
      ],
      "metadata": {
        "id": "cqEQUS3oQsvz"
      }
    },
    {
      "cell_type": "code",
      "source": [
        "nested_dict = data = {\n",
        "    2022: {\n",
        "        'Branch 1': {\n",
        "            'Roll Number': 1,\n",
        "            'Name': 'N',\n",
        "            'Marks': {\n",
        "                'Maths': 100,\n",
        "                'English': 70\n",
        "            }\n",
        "        },\n",
        "        'Branch 2': {\n",
        "            'Roll Number': 1,\n",
        "            'Name': 'N',\n",
        "            'Marks': {\n",
        "                'Maths': 100,\n",
        "                'English': 70\n",
        "            }\n",
        "\n",
        "        }\n",
        "    },\n",
        "    2023: {\n",
        "        'Branch 1': {\n",
        "            'Roll Number': 1,\n",
        "            'Name': 'N',\n",
        "            'Marks': {\n",
        "                'Maths': 100,\n",
        "                'English': 70\n",
        "            }\n",
        "        },\n",
        "        'Branch 2': {\n",
        "            'Roll Number': 1,\n",
        "            'Name': 'N',\n",
        "            'Marks': {\n",
        "                'Maths': 100,\n",
        "                'English': 70\n",
        "            }\n",
        "\n",
        "        }\n",
        "    },\n",
        "    2024: {\n",
        "        'Branch 1': {\n",
        "            'Roll Number': 1,\n",
        "            'Name': 'N',\n",
        "            'Marks': {\n",
        "                'Maths': 100,\n",
        "                'English': 70\n",
        "            }\n",
        "\n",
        "        },\n",
        "        'Branch 2': {\n",
        "            'Roll Number': 1,\n",
        "            'Name': 'N',\n",
        "            'Marks': {\n",
        "                'Maths': 100,\n",
        "                'English': 70\n",
        "            }\n",
        "\n",
        "        }\n",
        "    },\n",
        "    2025: {\n",
        "        'Branch 1': {\n",
        "            'Roll Number': 1,\n",
        "            'Name': 'N',\n",
        "            'Marks': {\n",
        "                'Maths': 100,\n",
        "                'English': 70\n",
        "            }\n",
        "\n",
        "        },\n",
        "        'Branch 2': {\n",
        "            'Roll Number': 1,\n",
        "            'Name': 'N',\n",
        "            'Marks': {\n",
        "                'Maths': 100,\n",
        "                'English': 70\n",
        "            }\n",
        "\n",
        "        }\n",
        "    }\n",
        "}\n"
      ],
      "metadata": {
        "id": "peq362p-Q7of"
      },
      "execution_count": 11,
      "outputs": []
    },
    {
      "cell_type": "markdown",
      "source": [
        "## 8. Store the same information using Python classes. We have an overall database which is a list of year objects. Each year contains a list of branches. Each branch contains a list of students. Each student has some properties like name, roll number and has marks in some subjects."
      ],
      "metadata": {
        "id": "sJny4A6ISHsZ"
      }
    },
    {
      "cell_type": "code",
      "source": [
        "class Student():\n",
        "\n",
        "    def __init__(self,name,roll_no, marks):\n",
        "\n",
        "        self.name = name\n",
        "        self.roll_no= roll_no\n",
        "        self.marks = marks\n",
        "\n",
        "\n",
        "class branch():\n",
        "    def __init__(self, branch, students_list:list # list containing student objects\n",
        "                 ):\n",
        "        self.branch = branch\n",
        "        self.students = students_list\n",
        "\n",
        "class year():\n",
        "\n",
        "    def __init__(self, year_name, branch):\n",
        "\n",
        "        self.year = year_name\n",
        "        self.branch = branch\n",
        "\n",
        "student_1 = Student('Dewansh',1,{'Eng':13,'Maths':34})\n",
        "student_2 = Student('Laqshya',1,{'Eng':24,'Maths':34})\n",
        "student_3 = Student('Vraj',1,{'Eng':35,'Maths':34})\n",
        "\n",
        "branch_1 = branch('CSE',[student_1,student_3])\n",
        "\n",
        "branch_2 = branch('EE',[student_2])\n",
        "\n",
        "year_2023 = year(2023,[branch_1,branch_2])\n",
        "\n",
        "year_data = [year_2023]\n",
        "\n",
        "\n",
        "\n"
      ],
      "metadata": {
        "id": "qosWbkSC3vuA"
      },
      "execution_count": 20,
      "outputs": []
    },
    {
      "cell_type": "markdown",
      "source": [
        "## 9. Using matplotlib plot the following functions on the domain: x = 0.5 to 100.0 in steps of 0.5."
      ],
      "metadata": {
        "id": "cKHj2am1XaAl"
      }
    },
    {
      "cell_type": "code",
      "source": [
        "import matplotlib.pyplot as plt\n",
        "import numpy as np\n",
        "\n",
        "X  = np.arange(0.5,100.5,0.5)\n",
        "\n",
        "y = [X, X**2, (X**3)/100 , np.sin(X), np.sin(X)/X , np.log(X), np.exp(X)]\n",
        "\n",
        "fig, axes = plt.subplots(7,1,figsize= (10,10))\n",
        "\n",
        "axes = axes.flatten()\n",
        "\n",
        "for i ,ax in enumerate(axes):\n",
        "\n",
        "    ax.plot(X, y[i], color = 'b')\n",
        "    ax.set_title(f\"Plot {i}\")\n",
        "\n",
        "\n",
        "\n",
        "\n"
      ],
      "metadata": {
        "id": "fUEoSpILXeSe",
        "colab": {
          "base_uri": "https://localhost:8080/",
          "height": 853
        },
        "outputId": "96e0a417-ca24-478b-9b36-19ac0555c8f4"
      },
      "execution_count": 15,
      "outputs": [
        {
          "output_type": "display_data",
          "data": {
            "text/plain": [
              "<Figure size 1000x1000 with 7 Axes>"
            ],
            "image/png": "[encoded data removed]"
          },
          "metadata": {}
        }
      ]
    },
    {
      "cell_type": "markdown",
      "source": [
        "## 10. Using numpy generate a matrix of size 20X5 containing random numbers drawn uniformly from the range of 1 to 2. Using Pandas create a dataframe out of this matrix. Name the columns of the dataframe as “a”, “b”, “c”, “d”, “e”. Find the column with the highest standard deviation. Find the row with the lowest mean"
      ],
      "metadata": {
        "id": "GOiJNzjoYLa0"
      }
    },
    {
      "cell_type": "code",
      "source": [
        "import numpy as np\n",
        "import pandas as pd\n",
        "np.random.seed(42)   # for regeneratable results\n",
        "\n",
        "matrix = np.random.uniform(1,2,size= (20,5))\n",
        "print(f\"The shape of the matrix is {matrix.shape}\")\n",
        "\n",
        "df = pd.DataFrame(matrix, columns= [\"a\",\"b\",\"c\",\"d\",\"e\"])\n",
        "\n",
        "sde = df.std().idxmax()\n",
        "\n",
        "print(f\"The column with highest standard deviation is {sde} of {max(list(df.std()))}\")\n",
        "\n",
        "\n",
        "min_mean = df.mean(axis=1).idxmin()\n",
        "\n",
        "print(f\"The row index with lowest mean {min_mean}  of {min(list(df.mean()))}\")\n",
        "\n",
        "\n"
      ],
      "metadata": {
        "colab": {
          "base_uri": "https://localhost:8080/"
        },
        "id": "8Sb4HgfiYcFB",
        "outputId": "9c8df3a9-40e6-4b02-e3c0-8c4a88ce1562"
      },
      "execution_count": 16,
      "outputs": [
        {
          "output_type": "stream",
          "name": "stdout",
          "text": [
            "The shape of the matrix is (20, 5)\n",
            "The column with highest standard deviation is c of 0.31862833120007994\n",
            "The row index with lowest mean 11  of 1.4182459349790417\n"
          ]
        }
      ]
    },
    {
      "cell_type": "markdown",
      "source": [
        "## 11. Add a new column to the dataframe called “f” which is the sum of the columns “a”, “b”, “c”, “d”, “e”. Create another column called “g”. The value in the column “g” should be “LT8” if the value in the column “f” is less than 8 and “GT8” otherwise. Find the number of rows in the dataframe where the value in the column “g” is “LT8”. Find the standard deviation of the column “f” for the rows where the value in the column “g” is “LT8” and “GT8” respectively."
      ],
      "metadata": {
        "id": "vC-I3cDuYour"
      }
    },
    {
      "cell_type": "code",
      "source": [
        "# Using the dataframe created in above\n",
        "\n",
        "\n",
        "df['f'] = df['a'] + df['b'] + df['c'] + df['d'] + df['e']\n",
        "\n",
        "print(f\"THe matrix after adding the new column\")\n",
        "print(df)\n",
        "print()\n",
        "df['g'] = [\"LT8\" if df['f'][i]<8 else \"GT8\" for i in range(len(df))]\n",
        "\n",
        "grouped_object = df[['g','f']].groupby('g').std()\n",
        "\n",
        "print(f\"The standard deviation of column f whose corresponfing g values is GT8 {grouped_object['f']['GT8']}\")\n",
        "\n",
        "print(f\"The standard deviation of column f whose corresponfing g values is LT8 {grouped_object['f']['LT8']}\")"
      ],
      "metadata": {
        "colab": {
          "base_uri": "https://localhost:8080/"
        },
        "id": "pgHaMyItbeyV",
        "outputId": "18a19f7d-0133-4447-d7b1-bcf2657dedac"
      },
      "execution_count": 17,
      "outputs": [
        {
          "output_type": "stream",
          "name": "stdout",
          "text": [
            "THe matrix after adding the new column\n",
            "           a         b         c         d         e         f\n",
            "0   1.374540  1.950714  1.731994  1.598658  1.156019  7.811925\n",
            "1   1.155995  1.058084  1.866176  1.601115  1.708073  7.389442\n",
            "2   1.020584  1.969910  1.832443  1.212339  1.181825  7.217101\n",
            "3   1.183405  1.304242  1.524756  1.431945  1.291229  6.735577\n",
            "4   1.611853  1.139494  1.292145  1.366362  1.456070  6.865923\n",
            "5   1.785176  1.199674  1.514234  1.592415  1.046450  7.137949\n",
            "6   1.607545  1.170524  1.065052  1.948886  1.965632  7.757638\n",
            "7   1.808397  1.304614  1.097672  1.684233  1.440152  7.335069\n",
            "8   1.122038  1.495177  1.034389  1.909320  1.258780  6.819704\n",
            "9   1.662522  1.311711  1.520068  1.546710  1.184854  7.225866\n",
            "10  1.969585  1.775133  1.939499  1.894827  1.597900  9.176944\n",
            "11  1.921874  1.088493  1.195983  1.045227  1.325330  6.576907\n",
            "12  1.388677  1.271349  1.828738  1.356753  1.280935  7.126452\n",
            "13  1.542696  1.140924  1.802197  1.074551  1.986887  7.547255\n",
            "14  1.772245  1.198716  1.005522  1.815461  1.706857  7.498801\n",
            "15  1.729007  1.771270  1.074045  1.358466  1.115869  7.048657\n",
            "16  1.863103  1.623298  1.330898  1.063558  1.310982  7.191840\n",
            "17  1.325183  1.729606  1.637557  1.887213  1.472215  8.051775\n",
            "18  1.119594  1.713245  1.760785  1.561277  1.770967  7.925868\n",
            "19  1.493796  1.522733  1.427541  1.025419  1.107891  6.577380\n",
            "\n",
            "The standard deviation of column f whose corresponfing g values is GT8 0.7956146881961926\n",
            "The standard deviation of column f whose corresponfing g values is LT8 0.4025886500663061\n"
          ]
        }
      ]
    },
    {
      "cell_type": "markdown",
      "source": [
        "## 12. Write a small piece of code to explain broadcasting in numpy."
      ],
      "metadata": {
        "id": "TgSNhIyocxXr"
      }
    },
    {
      "cell_type": "markdown",
      "source": [
        "Broadcasting is a feature used in numpy to do element wise operations such as multiplication and addition on matrices with differnet sizes"
      ],
      "metadata": {
        "id": "6FVkbf-soCaG"
      }
    },
    {
      "cell_type": "code",
      "source": [
        "arr1 = np.random.randint(1,5,size=(2,3))\n",
        "\n",
        "print(arr1)\n",
        "print()\n",
        "\n",
        "arr2 = np.random.randint(1,5,size=(3,))\n",
        "print(arr2)\n",
        "\n",
        "print()\n",
        "print(arr1+ arr2) # arr2 shape got changed according to the size of arr1 to perform element wise opeartions\n",
        "print()\n",
        "# Same can be done using multiplication\n",
        "\n",
        "print(arr1*arr2)"
      ],
      "metadata": {
        "colab": {
          "base_uri": "https://localhost:8080/"
        },
        "id": "GXS7GPCVpF7P",
        "outputId": "09f003e0-de92-44d9-a7b5-430c43aed14f"
      },
      "execution_count": 18,
      "outputs": [
        {
          "output_type": "stream",
          "name": "stdout",
          "text": [
            "[[3 4 3]\n",
            " [1 4 1]]\n",
            "\n",
            "[4 4 2]\n",
            "\n",
            "[[7 8 5]\n",
            " [5 8 3]]\n",
            "\n",
            "[[12 16  6]\n",
            " [ 4 16  2]]\n"
          ]
        }
      ]
    },
    {
      "cell_type": "markdown",
      "source": [
        "## 13.  Write a function to compute the argmin of a numpy array. The function should take a numpy array as input and return the index of the minimum element. You can use the np.argmin function to verify your solution."
      ],
      "metadata": {
        "id": "3in2LPCfhyRf"
      }
    },
    {
      "cell_type": "markdown",
      "source": [
        "Ans : The use of the argmin function in the numpy module is to return the index of the minimum value element in an numpy array (for a one dimentional array)"
      ],
      "metadata": {
        "id": "8ySsePzFiJqC"
      }
    },
    {
      "cell_type": "code",
      "source": [
        "import sys\n",
        "arr = np.array([32,12,46,23,4647,42,757,43244,456547,233,33,566,21,0,])\n",
        "\n",
        "\n",
        "def argmin(arr):\n",
        "\n",
        "    min = sys.maxsize\n",
        "    n = len(arr)\n",
        "    ind = n\n",
        "    for i in range(n):\n",
        "\n",
        "        if (arr[i]<min):\n",
        "            min = arr[i]\n",
        "            ind= i\n",
        "    return i\n",
        "\n",
        "print(\"The index of the minimum element using our argmin funtion\",argmin(arr))\n",
        "\n",
        "print(\"The index of the minimum element using numpy's argmin function\" , np.argmin(arr))\n",
        "\n",
        "\n",
        "\n"
      ],
      "metadata": {
        "colab": {
          "base_uri": "https://localhost:8080/"
        },
        "id": "gwyV3GqblS9r",
        "outputId": "c018c275-5b9b-46d7-aae8-96a6eecdc3e3"
      },
      "execution_count": 19,
      "outputs": [
        {
          "output_type": "stream",
          "name": "stdout",
          "text": [
            "The index of the minimum element using our argmin funtion 13\n",
            "The index of the minimum element using numpy's argmin function 13\n"
          ]
        }
      ]
    }
  ]
}